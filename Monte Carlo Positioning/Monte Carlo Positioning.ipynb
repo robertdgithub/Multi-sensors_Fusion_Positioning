{
 "cells": [
  {
   "cell_type": "markdown",
   "metadata": {},
   "source": [
    "# Monte Carlo Positioning"
   ]
  },
  {
   "cell_type": "markdown",
   "metadata": {},
   "source": [
    "We will learn how to program vehicles with the ability to sense their own location, and the locations of other vehicles, using sensors and algorithms."
   ]
  },
  {
   "cell_type": "markdown",
   "metadata": {},
   "source": [
    "In this lecture we will learn to sense locations with Monte Carlo positioning."
   ]
  },
  {
   "cell_type": "markdown",
   "metadata": {},
   "source": [
    "![http://www.fix.com/blog/driverless-car-revolution/](driverless-car.png \"Driverless Car\")\n"
   ]
  },
  {
   "cell_type": "code",
   "execution_count": 3,
   "metadata": {
    "collapsed": true
   },
   "outputs": [],
   "source": [
    "%matplotlib inline "
   ]
  },
  {
   "cell_type": "code",
   "execution_count": 4,
   "metadata": {
    "collapsed": false,
    "input_collapsed": false
   },
   "outputs": [],
   "source": [
    "import numpy as np\n",
    "import scipy as sp\n",
    "import matplotlib.pyplot as plt\n",
    "\n",
    "def show_world(ax, lw=5):\n",
    "    #show a world with lw cells\n",
    "    \n",
    "    ax.bar(np.arange(lw), np.ones(lw), 1, linewidth=3)\n",
    "    ax.spines['right'].set_color('none')\n",
    "    ax.spines['left'].set_color('none')\n",
    "    ax.spines['top'].set_color('none')\n",
    "    ax.xaxis.set_ticks_position('bottom')\n",
    "    ax.set_xticks(np.arange(lw)+0.5)\n",
    "    #ax.set_xlim([-0.1, 5.1])\n",
    "    #ax.set_ylim([0, 110])\n",
    "    ax.set_xticklabels(np.arange(lw)+1)\n",
    "    plt.yticks([])\n",
    "\n",
    "def showbar(ax, center=range(1,6,1), height=0.5, bottom=0.25, color='red'):\n",
    "    #show markers on the positions (center)\n",
    "    \n",
    "    ax.bar(np.array(center)-1+0.1, height, bottom=bottom, color=color, linewidth=3)"
   ]
  },
  {
   "cell_type": "markdown",
   "metadata": {
    "input_collapsed": false
   },
   "source": [
    "## Discrete 1D World"
   ]
  },
  {
   "cell_type": "markdown",
   "metadata": {},
   "source": [
    "Rather than start from a vehicle in continuous 3D world, we are going to consider a dicrete 1D world firstly.\n",
    "\n",
    "Image a train on the track,  where it is only possible to move forward or backwards; sideways motion is impossible. The measurement is so rough that there are only 5 positions. If there are more accurate measurement methods, we may divide the track into 500 intervals."
   ]
  },
  {
   "cell_type": "code",
   "execution_count": 5,
   "metadata": {
    "collapsed": false,
    "input_collapsed": false
   },
   "outputs": [
    {
     "data": {
      "image/png": "[encoded data removed]",
      "text/plain": [
       "<matplotlib.figure.Figure at 0xb0b701cc>"
      ]
     },
     "metadata": {},
     "output_type": "display_data"
    }
   ],
   "source": [
    "ax = plt.figure().add_axes((0.1, 0.2, 1.5, 0.3))\n",
    "show_world(ax)"
   ]
  },
  {
   "cell_type": "markdown",
   "metadata": {},
   "source": [
    "## Deterministic World"
   ]
  },
  {
   "cell_type": "markdown",
   "metadata": {},
   "source": [
    "The world is also deterministic, which means that the train is at one of the positions with the probability of 100%."
   ]
  },
  {
   "cell_type": "markdown",
   "metadata": {},
   "source": [
    "Let us try to locate it. Assume for some reason we know it starts from cell 1, but the measurement tells us that it is at cell 5. So where is it on earth?\n",
    "* Prior: cell 1 (in red)\n",
    "* Measurement: cell 5 (in green)\n",
    "* Posterior: ?"
   ]
  },
  {
   "cell_type": "code",
   "execution_count": 6,
   "metadata": {
    "collapsed": false,
    "input_collapsed": false
   },
   "outputs": [
    {
     "data": {
      "image/png": "[encoded data removed]",
      "text/plain": [
       "<matplotlib.figure.Figure at 0xb0b8fe6c>"
      ]
     },
     "metadata": {},
     "output_type": "display_data"
    }
   ],
   "source": [
    "ax = plt.figure().add_axes((0.1, 0.2, 1.5, 0.3))\n",
    "show_world(ax)\n",
    "# Prior position: cell 1 (in red)\n",
    "showbar(ax, 1, color='red')\n",
    "# Measurement: cell 5 (in green)\n",
    "showbar(ax, 5, color='green')"
   ]
  },
  {
   "cell_type": "markdown",
   "metadata": {},
   "source": [
    "## Posterior position? "
   ]
  },
  {
   "cell_type": "code",
   "execution_count": 7,
   "metadata": {
    "collapsed": false,
    "input_collapsed": false
   },
   "outputs": [
    {
     "data": {
      "image/png": "[encoded data removed]",
      "text/plain": [
       "<matplotlib.figure.Figure at 0xb0a9cc4c>"
      ]
     },
     "metadata": {},
     "output_type": "display_data"
    }
   ],
   "source": [
    "ax = plt.figure().add_axes((0.1, 0.2, 1.5, 0.3))\n",
    "show_world(ax)\n",
    "# Prior position: cell 1 (in red)\n",
    "showbar(ax, 1, color='red')\n",
    "# Measurement: cell 5 (in green)\n",
    "showbar(ax, 5, color='green')\n",
    "\n",
    "# Posterior position: cell 3 (in yellow)\n",
    "showbar(ax, 3, color='yellow')"
   ]
  },
  {
   "cell_type": "markdown",
   "metadata": {},
   "source": [
    "Just the middle of cell 1 and cell 5, that is, cell 3?"
   ]
  },
  {
   "cell_type": "code",
   "execution_count": 8,
   "metadata": {
    "collapsed": false,
    "input_collapsed": false
   },
   "outputs": [
    {
     "data": {
      "image/png": "[encoded data removed]",
      "text/plain": [
       "<matplotlib.figure.Figure at 0xb0b8f8ec>"
      ]
     },
     "metadata": {},
     "output_type": "display_data"
    }
   ],
   "source": [
    "ax = plt.figure().add_axes((0.1, 0.2, 1.5, 0.3))\n",
    "show_world(ax)\n",
    "# Prior position: cell 1 (in red)\n",
    "showbar(ax, 1, color='red')\n",
    "# Measurement: cell 5 (in green)\n",
    "showbar(ax, 5, color='green')\n",
    "\n",
    "# Posterior position: cell 4 (in yellow)\n",
    "showbar(ax, 4, color='yellow')"
   ]
  },
  {
   "cell_type": "markdown",
   "metadata": {},
   "source": [
    "Closer to cell 5, that is, cell 4?"
   ]
  },
  {
   "cell_type": "code",
   "execution_count": 9,
   "metadata": {
    "collapsed": false,
    "input_collapsed": false
   },
   "outputs": [
    {
     "data": {
      "image/png": "[encoded data removed]",
      "text/plain": [
       "<matplotlib.figure.Figure at 0xb0b69c2c>"
      ]
     },
     "metadata": {},
     "output_type": "display_data"
    }
   ],
   "source": [
    "ax = plt.figure().add_axes((0.1, 0.2, 1.5, 0.3))\n",
    "show_world(ax)\n",
    "# Prior position: cell 1 (in red)\n",
    "showbar(ax, 1, color='red')\n",
    "# Measurement: cell 5 (in green)\n",
    "showbar(ax, 5, color='green')\n",
    "\n",
    "# Posterior position: cell 2 (in yellow)\n",
    "showbar(ax, 2, color='yellow')"
   ]
  },
  {
   "cell_type": "markdown",
   "metadata": {},
   "source": [
    "Closer to cell 1, that is, cell 2?"
   ]
  },
  {
   "cell_type": "markdown",
   "metadata": {},
   "source": [
    "## Probabilistic World"
   ]
  },
  {
   "cell_type": "markdown",
   "metadata": {},
   "source": [
    "* Prior: [0.2, 0.5, 0.2, 0.05, 0.05] (in red)\n",
    "\n",
    "* Measurement: [0.05, 0.05, 0.1, 0.7, 0.1] (in green)"
   ]
  },
  {
   "cell_type": "code",
   "execution_count": 10,
   "metadata": {
    "collapsed": false,
    "input_collapsed": false
   },
   "outputs": [
    {
     "data": {
      "image/png": "[encoded data removed]",
      "text/plain": [
       "<matplotlib.figure.Figure at 0xb0b6484c>"
      ]
     },
     "metadata": {},
     "output_type": "display_data"
    }
   ],
   "source": [
    "ax = plt.figure().add_axes((0.1, 0.2, 1.5, 0.3))\n",
    "show_world(ax)\n",
    "# Prior: (in red)\n",
    "prior_p = [0.2, 0.5, 0.2, 0.05, 0.05]\n",
    "showbar(ax, height=prior_p, color='red')"
   ]
  },
  {
   "cell_type": "code",
   "execution_count": 25,
   "metadata": {
    "collapsed": false,
    "input_collapsed": false
   },
   "outputs": [
    {
     "data": {
      "image/png": "[encoded data removed]",
      "text/plain": [
       "<matplotlib.figure.Figure at 0xadf683ac>"
      ]
     },
     "metadata": {},
     "output_type": "display_data"
    }
   ],
   "source": [
    "ax = plt.figure().add_axes((0.1, 0.2, 1.5, 0.3))\n",
    "show_world(ax)\n",
    "\n",
    "pmea = [0.05, 0.05, 0.1, 0.6, 0.2] # Measurement\n",
    "showbar(ax, height=pmea, color='green')"
   ]
  },
  {
   "cell_type": "markdown",
   "metadata": {},
   "source": [
    "* Posterior: prior probability * measurement probabilit ?"
   ]
  },
  {
   "cell_type": "code",
   "execution_count": 27,
   "metadata": {
    "collapsed": false,
    "input_collapsed": false
   },
   "outputs": [
    {
     "name": "stdout",
     "output_type": "stream",
     "text": [
      "[ 0.01   0.025  0.02   0.035  0.005]\n"
     ]
    }
   ],
   "source": [
    "post_p = np.array(pmea)*np.array(prior_p)\n",
    "print post_p"
   ]
  },
  {
   "cell_type": "markdown",
   "metadata": {},
   "source": [
    "* Posterior: prior probability * measurement probability / sum"
   ]
  },
  {
   "cell_type": "code",
   "execution_count": 28,
   "metadata": {
    "collapsed": false,
    "input_collapsed": false
   },
   "outputs": [
    {
     "name": "stdout",
     "output_type": "stream",
     "text": [
      "Posterior:  [ 0.10526316  0.26315789  0.21052632  0.36842105  0.05263158]\n"
     ]
    }
   ],
   "source": [
    "post_p = post_p / sum(post_p)\n",
    "#print 'Sum of Posterior: ',sum(post_p)\n",
    "print 'Posterior: ', post_p"
   ]
  },
  {
   "cell_type": "code",
   "execution_count": 29,
   "metadata": {
    "collapsed": false,
    "input_collapsed": false
   },
   "outputs": [
    {
     "name": "stdout",
     "output_type": "stream",
     "text": [
      "Posterior:  [ 0.10526316  0.26315789  0.21052632  0.36842105  0.05263158]\n"
     ]
    },
    {
     "data": {
      "image/png": "[encoded data removed]",
      "text/plain": [
       "<matplotlib.figure.Figure at 0xae8d46ec>"
      ]
     },
     "metadata": {},
     "output_type": "display_data"
    }
   ],
   "source": [
    "def meas(prior_p, pmea):\n",
    "    post_p = np.array(pmea)*np.array(prior_p)\n",
    "    post_p = post_p / sum(post_p)\n",
    "    return post_p\n",
    "\n",
    "ax = plt.figure().add_axes((0.1, 0.2, 1.5, 0.3))\n",
    "show_world(ax)\n",
    "\n",
    "post_p = meas(prior_p, pmea)\n",
    "print 'Posterior: ', post_p\n",
    "showbar(ax, height=post_p, color='yellow')"
   ]
  },
  {
   "cell_type": "markdown",
   "metadata": {},
   "source": [
    "## Motion"
   ]
  },
  {
   "cell_type": "markdown",
   "metadata": {},
   "source": [
    "* Accurate: shifting"
   ]
  },
  {
   "cell_type": "code",
   "execution_count": 30,
   "metadata": {
    "collapsed": false,
    "input_collapsed": false
   },
   "outputs": [
    {
     "name": "stdout",
     "output_type": "stream",
     "text": [
      "P: \n",
      "[ 0.10526316  0.26315789  0.21052632  0.36842105  0.05263158]\n",
      "P after moving 1 step: \n",
      "[ 0.05263158  0.10526316  0.26315789  0.21052632  0.36842105]\n"
     ]
    }
   ],
   "source": [
    "def move(p, step):\n",
    "    q= [ ] #Start with empty list\n",
    "    for i in range(len(p)):\n",
    "        q.append(p[(i-step) % len (p)]) #cycle\n",
    "    return np.array(q)\n",
    "\n",
    "print 'P: \\n', post_p\n",
    "p_after_move1 = move(post_p, 1)\n",
    "print 'P after moving 1 step: \\n', p_after_move1"
   ]
  },
  {
   "cell_type": "code",
   "execution_count": 15,
   "metadata": {
    "collapsed": false,
    "input_collapsed": true
   },
   "outputs": [
    {
     "data": {
      "image/png": "[encoded data removed]",
      "text/plain": [
       "<matplotlib.figure.Figure at 0xb0d3dd6c>"
      ]
     },
     "metadata": {},
     "output_type": "display_data"
    }
   ],
   "source": [
    "ax = plt.figure().add_axes((0.1, 0.2, 1.5, 0.3))\n",
    "show_world(ax)\n",
    "\n",
    "showbar(ax, height=p_after_move1, color='yellow')"
   ]
  },
  {
   "cell_type": "markdown",
   "metadata": {},
   "source": [
    "* Inaccurate: convolution"
   ]
  },
  {
   "cell_type": "markdown",
   "metadata": {},
   "source": [
    "$P(X_{i+s} \\mid X_i)=0.8$\n",
    "\n",
    "$P(X_{i+s+1} \\mid X_i)=0.1$\n",
    "\n",
    "$P(X_{i+s-1} \\mid X_i)=0.1$\n",
    "\n",
    "s: step"
   ]
  },
  {
   "cell_type": "markdown",
   "metadata": {
    "input_collapsed": true
   },
   "source": [
    "* Exact position"
   ]
  },
  {
   "cell_type": "code",
   "execution_count": 16,
   "metadata": {
    "collapsed": false,
    "input_collapsed": false
   },
   "outputs": [
    {
     "data": {
      "image/png": "[encoded data removed]",
      "text/plain": [
       "<matplotlib.figure.Figure at 0xb0d1b04c>"
      ]
     },
     "metadata": {},
     "output_type": "display_data"
    }
   ],
   "source": [
    "fig = plt.figure()\n",
    "ax = fig.add_axes((0.1, 0.2, 1.5, 0.3))\n",
    "show_world(ax)\n",
    "\n",
    "# original: cell 2\n",
    "showbar(ax, 2, height=1, color='red')"
   ]
  },
  {
   "cell_type": "markdown",
   "metadata": {},
   "source": [
    "* Move 1"
   ]
  },
  {
   "cell_type": "code",
   "execution_count": 17,
   "metadata": {
    "collapsed": false,
    "input_collapsed": false
   },
   "outputs": [
    {
     "data": {
      "image/png": "[encoded data removed]",
      "text/plain": [
       "<matplotlib.figure.Figure at 0xb15fa60c>"
      ]
     },
     "metadata": {},
     "output_type": "display_data"
    }
   ],
   "source": [
    "fig = plt.figure()\n",
    "ax = fig.add_axes((0.1, 0.2, 1.5, 0.3))\n",
    "show_world(ax)\n",
    "\n",
    "# original: cell 2\n",
    "showbar(ax, 2, height=1, color='red')\n",
    "\n",
    "# after move 1 \n",
    "s = 1\n",
    "newpos = 2 + s + np.array([-1, 0, 1])\n",
    "move_prob = [0.1, 0.8, 0.1]\n",
    "showbar(ax, newpos, height=move_prob, color='green')"
   ]
  },
  {
   "cell_type": "markdown",
   "metadata": {},
   "source": [
    "* Move 2"
   ]
  },
  {
   "cell_type": "code",
   "execution_count": 18,
   "metadata": {
    "collapsed": false,
    "input_collapsed": false
   },
   "outputs": [
    {
     "data": {
      "image/png": "[encoded data removed]",
      "text/plain": [
       "<matplotlib.figure.Figure at 0xb0d7b6ec>"
      ]
     },
     "metadata": {},
     "output_type": "display_data"
    }
   ],
   "source": [
    "fig = plt.figure()\n",
    "ax = fig.add_axes((0.1, 0.2, 1.5, 0.3))\n",
    "show_world(ax)\n",
    "\n",
    "# original: cell 2\n",
    "showbar(ax, 2, height=1, color='red')\n",
    "\n",
    "# after move 2 \n",
    "s = 2\n",
    "newpos = 2 + s + np.array([-1, 0, 1])\n",
    "move_prob = [0.1, 0.8, 0.1]\n",
    "showbar(ax, newpos, height=move_prob, color='green')"
   ]
  },
  {
   "cell_type": "markdown",
   "metadata": {},
   "source": [
    "* Inaccurate position"
   ]
  },
  {
   "cell_type": "code",
   "execution_count": 19,
   "metadata": {
    "collapsed": false,
    "input_collapsed": false
   },
   "outputs": [
    {
     "data": {
      "image/png": "[encoded data removed]",
      "text/plain": [
       "<matplotlib.figure.Figure at 0xb0d6f4ac>"
      ]
     },
     "metadata": {},
     "output_type": "display_data"
    }
   ],
   "source": [
    "fig = plt.figure()\n",
    "ax = fig.add_axes((0.1, 0.2, 1.5, 0.3))\n",
    "show_world(ax)\n",
    "\n",
    "# original:\n",
    "ini_pos = [0.2, 0.6, 0.2, 0, 0]\n",
    "showbar(ax, height=ini_pos, color='red')"
   ]
  },
  {
   "cell_type": "code",
   "execution_count": 20,
   "metadata": {
    "collapsed": false
   },
   "outputs": [],
   "source": [
    "def move_v2(p, step):\n",
    "    #Introduce auxiliary variable s\n",
    "    q= []\n",
    "    #Add exact probability\n",
    "    pExact = 0.8\n",
    "    #Add overshoot probability\n",
    "    pOvershoot = 0.1\n",
    "    #Add undershoot probability\n",
    "    pUndershoot = 0.1\n",
    "\n",
    "    for i in range(len(p)):\n",
    "        s = pExact * p[(i-step) % len(p)]\n",
    "        s = s + pOvershoot * p[(i-step-1) % len(p)]\n",
    "        s = s + pUndershoot * p[(i-step+1) % len(p)]\n",
    "        q.append(s)\n",
    "    return q"
   ]
  },
  {
   "cell_type": "code",
   "execution_count": 21,
   "metadata": {
    "collapsed": false
   },
   "outputs": [
    {
     "name": "stdout",
     "output_type": "stream",
     "text": [
      "P: \n",
      "[0.2, 0.6, 0.2, 0, 0]\n",
      "P after moving: \n",
      "[0.020000000000000004, 0.22000000000000003, 0.52, 0.22000000000000003, 0.020000000000000004]\n"
     ]
    },
    {
     "data": {
      "image/png": "[encoded data removed]",
      "text/plain": [
       "<matplotlib.figure.Figure at 0xb16d9ecc>"
      ]
     },
     "metadata": {},
     "output_type": "display_data"
    }
   ],
   "source": [
    "fig = plt.figure()\n",
    "ax = fig.add_axes((0.1, 0.2, 1.5, 0.3))\n",
    "show_world(ax)\n",
    "\n",
    "# original:\n",
    "ini_pos = [0.2, 0.6, 0.2, 0, 0]\n",
    "\n",
    "# after move 2 \n",
    "s = 1\n",
    "print 'P: \\n', ini_pos\n",
    "p_after_move = move_v2(ini_pos, s)\n",
    "print 'P after moving: \\n', p_after_move\n",
    "showbar(ax, height=p_after_move, color='green')"
   ]
  },
  {
   "cell_type": "markdown",
   "metadata": {},
   "source": [
    "## Iterate Measurement + Motion "
   ]
  },
  {
   "cell_type": "code",
   "execution_count": 22,
   "metadata": {
    "collapsed": false
   },
   "outputs": [
    {
     "name": "stdout",
     "output_type": "stream",
     "text": [
      "[ 0.04819277  0.24096386  0.6746988   0.02409639  0.01204819]\n"
     ]
    },
    {
     "data": {
      "image/png": "[encoded data removed]",
      "text/plain": [
       "<matplotlib.figure.Figure at 0xb0d223ec>"
      ]
     },
     "metadata": {},
     "output_type": "display_data"
    }
   ],
   "source": [
    "# Prior\n",
    "prior_p = [0.2, 0.5, 0.2, 0.05, 0.05]\n",
    "# Measurement 1\n",
    "pmea1 = [0.05, 0.1, 0.7, 0.1, 0.05] # Measurement\n",
    "# Moves right 1\n",
    "s1 = 1\n",
    "# Measurement 2\n",
    "pmea2 = [0.05, 0.05, 0.1, 0.7, 0.1] # Measurement\n",
    "# Moves right 2\n",
    "s2 = 2\n",
    "# Measurement 3\n",
    "pmea3 = [0.7, 0.1, 0.05, 0.05, 0.1 ] # Measurement\n",
    "\n",
    "post_p1 = meas(prior_p, pmea1)\n",
    "print post_p1\n",
    "ax = plt.figure().add_axes((0.1, 0.2, 1.5, 0.3))\n",
    "show_world(ax)\n",
    "showbar(ax, height=post_p1, color='green')"
   ]
  },
  {
   "cell_type": "code",
   "execution_count": 21,
   "metadata": {
    "collapsed": false
   },
   "outputs": [
    {
     "name": "stdout",
     "output_type": "stream",
     "text": [
      "[0.016867469879518079, 0.063855421686747002, 0.2650602409638555, 0.56626506024096379, 0.087951807228915671]\n"
     ]
    },
    {
     "data": {
      "image/png": "[encoded data removed]",
      "text/plain": [
       "<matplotlib.figure.Figure at 0xb0ceecec>"
      ]
     },
     "metadata": {},
     "output_type": "display_data"
    }
   ],
   "source": [
    "post_p2 = move_v2(post_p1, s1)\n",
    "print post_p2\n",
    "ax = plt.figure().add_axes((0.1, 0.2, 1.5, 0.3))\n",
    "show_world(ax)\n",
    "showbar(ax, height=post_p2, color='green')"
   ]
  },
  {
   "cell_type": "code",
   "execution_count": 22,
   "metadata": {
    "collapsed": false
   },
   "outputs": [
    {
     "name": "stdout",
     "output_type": "stream",
     "text": [
      "[ 0.00193557  0.00732753  0.0608323   0.90971934  0.02018526]\n"
     ]
    },
    {
     "data": {
      "image/png": "[encoded data removed]",
      "text/plain": [
       "<matplotlib.figure.Figure at 0xb0c59d2c>"
      ]
     },
     "metadata": {},
     "output_type": "display_data"
    }
   ],
   "source": [
    "post_p3 = meas(post_p2, pmea2)\n",
    "print post_p3\n",
    "ax = plt.figure().add_axes((0.1, 0.2, 1.5, 0.3))\n",
    "show_world(ax)\n",
    "showbar(ax, height=post_p3, color='green')"
   ]
  },
  {
   "cell_type": "code",
   "execution_count": 23,
   "metadata": {
    "collapsed": false
   },
   "outputs": [
    {
     "name": "stdout",
     "output_type": "stream",
     "text": [
      "[0.73587722936540856, 0.10731370109221623, 0.0042997373150836463, 0.012138808240011068, 0.14037052398728056]\n"
     ]
    },
    {
     "data": {
      "image/png": "[encoded data removed]",
      "text/plain": [
       "<matplotlib.figure.Figure at 0xb0ce6cac>"
      ]
     },
     "metadata": {},
     "output_type": "display_data"
    }
   ],
   "source": [
    "post_p4 = move_v2(post_p3, s2)\n",
    "print post_p4\n",
    "ax = plt.figure().add_axes((0.1, 0.2, 1.5, 0.3))\n",
    "show_world(ax)\n",
    "showbar(ax, height=post_p4, color='green')"
   ]
  },
  {
   "cell_type": "code",
   "execution_count": 24,
   "metadata": {
    "collapsed": false
   },
   "outputs": [
    {
     "name": "stdout",
     "output_type": "stream",
     "text": [
      "[  9.52672201e-01   1.98470179e-02   3.97605164e-04   1.12249947e-03\n",
      "   2.59606767e-02]\n"
     ]
    },
    {
     "data": {
      "image/png": "[encoded data removed]",
      "text/plain": [
       "<matplotlib.figure.Figure at 0xb0af7b2c>"
      ]
     },
     "metadata": {},
     "output_type": "display_data"
    }
   ],
   "source": [
    "post_p5 = meas(post_p4, pmea3)\n",
    "print post_p5\n",
    "ax = plt.figure().add_axes((0.1, 0.2, 1.5, 0.3))\n",
    "show_world(ax)\n",
    "showbar(ax, height=post_p5, color='green')"
   ]
  },
  {
   "cell_type": "markdown",
   "metadata": {},
   "source": [
    "## Positioning: Iteration of Measurement + Motion\n",
    "* Measurement: Production followed by normalization\n",
    "\n",
    "  Bayes's rule\n",
    "\n",
    "  $P(x|Z)=\\frac{P(Z|x)P(x)}{P(Z)}$\n",
    "\n",
    "  x=cell\n",
    "\n",
    "  Z=measurement\n",
    "\n",
    "  $P(x|Z)=$probability of cell after measurment\n",
    "\n",
    "  $P(x)=$probability of cell before measurment\n",
    "\n",
    "  $P(Z|x)=$probability of measurment on the condition of cell\n",
    "\n",
    "  $P(Z)=\\sum P(Z|x)P(x)$total probability of making measurement \"Z\"\n",
    "\n",
    "* Motion: Convolution\n",
    "  \n",
    "  Theorem of Total Probability\n",
    "  \n",
    "  $P(x_i^{t})=\\sum_jP(x_j^{t-1})P(x_i|x_j)$\n",
    "  \n",
    "  $P(x_i|x_j)=$probability of moving from cell $x_j$ to cell $x_i$\n",
    "  \n",
    "  $t=$time"
   ]
  },
  {
   "cell_type": "markdown",
   "metadata": {},
   "source": [
    "## Resources"
   ]
  },
  {
   "cell_type": "markdown",
   "metadata": {},
   "source": [
    "* [1] https://docs.python.org/2.7/\n",
    "* [2] http://ipython.org/documentation.html\n",
    "* [3] http://nbviewer.ipython.org/github/ipython/ipython/blob/3.x/examples/Notebook/Index.ipynb\n",
    "* [4] http://docs.scipy.org/doc/numpy/reference/\n",
    "* [5] http://docs.scipy.org/doc/scipy/reference/\n",
    "* [6] http://matplotlib.org/contents.html"
   ]
  },
  {
   "cell_type": "code",
   "execution_count": 1,
   "metadata": {
    "collapsed": false
   },
   "outputs": [
    {
     "data": {
      "application/json": {
       "Software versions": [
        {
         "module": "Python",
         "version": "2.7.11+ 64bit [GCC 5.3.1 20160429]"
        },
        {
         "module": "IPython",
         "version": "5.1.0"
        },
        {
         "module": "OS",
         "version": "Linux 4.4.0 2 deepin amd64 x86_64 with debian 8.0"
        },
        {
         "module": "scipy",
         "version": "0.18.0"
        },
        {
         "module": "numpy",
         "version": "1.11.1"
        },
        {
         "module": "matplotlib",
         "version": "1.5.2"
        }
       ]
      },
      "text/html": [
       "<table><tr><th>Software</th><th>Version</th></tr><tr><td>Python</td><td>2.7.11+ 64bit [GCC 5.3.1 20160429]</td></tr><tr><td>IPython</td><td>5.1.0</td></tr><tr><td>OS</td><td>Linux 4.4.0 2 deepin amd64 x86_64 with debian 8.0</td></tr><tr><td>scipy</td><td>0.18.0</td></tr><tr><td>numpy</td><td>1.11.1</td></tr><tr><td>matplotlib</td><td>1.5.2</td></tr><tr><td colspan='2'>Sun Sep 18 22:16:56 2016 CST</td></tr></table>"
      ],
      "text/latex": [
       "\\begin{tabular}{|l|l|}\\hline\n",
       "{\\bf Software} & {\\bf Version} \\\\ \\hline\\hline\n",
       "Python & 2.7.11+ 64bit [GCC 5.3.1 20160429] \\\\ \\hline\n",
       "IPython & 5.1.0 \\\\ \\hline\n",
       "OS & Linux 4.4.0 2 deepin amd64 x86\\_64 with debian 8.0 \\\\ \\hline\n",
       "scipy & 0.18.0 \\\\ \\hline\n",
       "numpy & 1.11.1 \\\\ \\hline\n",
       "matplotlib & 1.5.2 \\\\ \\hline\n",
       "\\hline \\multicolumn{2}{|l|}{Sun Sep 18 22:16:56 2016 CST} \\\\ \\hline\n",
       "\\end{tabular}\n"
      ],
      "text/plain": [
       "Software versions\n",
       "Python 2.7.11+ 64bit [GCC 5.3.1 20160429]\n",
       "IPython 5.1.0\n",
       "OS Linux 4.4.0 2 deepin amd64 x86_64 with debian 8.0\n",
       "scipy 0.18.0\n",
       "numpy 1.11.1\n",
       "matplotlib 1.5.2\n",
       "Sun Sep 18 22:16:56 2016 CST"
      ]
     },
     "execution_count": 1,
     "metadata": {},
     "output_type": "execute_result"
    }
   ],
   "source": [
    "# Install the version_information package using pip:\n",
    "# pip install version_information\n",
    "# or, alternatively, use the %install_ext IPython command (deprecated):\n",
    "# %install_ext http://raw.github.com/jrjohansson/version_information/master/version_information.py\n",
    "\n",
    "%load_ext version_information\n",
    "%version_information scipy, numpy, matplotlib"
   ]
  }
 ],
 "metadata": {
  "hide_input": false,
  "kernelspec": {
   "display_name": "Python 2",
   "language": "python",
   "name": "python2"
  },
  "language_info": {
   "codemirror_mode": {
    "name": "ipython",
    "version": 2
   },
   "file_extension": ".py",
   "mimetype": "text/x-python",
   "name": "python",
   "nbconvert_exporter": "python",
   "pygments_lexer": "ipython2",
   "version": "2.7.11+"
  }
 },
 "nbformat": 4,
 "nbformat_minor": 0
}
